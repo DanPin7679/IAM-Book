{
 "cells": [
  {
   "cell_type": "code",
   "execution_count": 1,
   "id": "4696afe4-d9ec-472d-bc85-35a4bf98dae5",
   "metadata": {},
   "outputs": [
    {
     "ename": "ModuleNotFoundError",
     "evalue": "No module named 'gekko'",
     "output_type": "error",
     "traceback": [
      "\u001b[0;31m---------------------------------------------------------------------------\u001b[0m",
      "\u001b[0;31mModuleNotFoundError\u001b[0m                       Traceback (most recent call last)",
      "Cell \u001b[0;32mIn[1], line 2\u001b[0m\n\u001b[1;32m      1\u001b[0m \u001b[38;5;28;01mimport\u001b[39;00m \u001b[38;5;21;01mnumpy\u001b[39;00m \u001b[38;5;28;01mas\u001b[39;00m \u001b[38;5;21;01mnp\u001b[39;00m\n\u001b[0;32m----> 2\u001b[0m \u001b[38;5;28;01mfrom\u001b[39;00m \u001b[38;5;21;01mgekko\u001b[39;00m \u001b[38;5;28;01mimport\u001b[39;00m GEKKO\n\u001b[1;32m      3\u001b[0m \u001b[38;5;28;01mimport\u001b[39;00m \u001b[38;5;21;01mplotly\u001b[39;00m\u001b[38;5;21;01m.\u001b[39;00m\u001b[38;5;21;01mexpress\u001b[39;00m \u001b[38;5;28;01mas\u001b[39;00m \u001b[38;5;21;01mpx\u001b[39;00m\n",
      "\u001b[0;31mModuleNotFoundError\u001b[0m: No module named 'gekko'"
     ]
    }
   ],
   "source": [
    "import numpy as np\n",
    "from gekko import GEKKO\n",
    "import plotly.express as px"
   ]
  },
  {
   "cell_type": "code",
   "execution_count": 4,
   "id": "1d605786-5da8-459f-8a24-a543968eb2e4",
   "metadata": {},
   "outputs": [],
   "source": [
    "m = GEKKO()\n",
    "m.options.IMODE=4\n",
    "m.options.NODES = 3\n",
    "\n",
    "n = 100\n",
    "m.time = np.linspace(2000,2100,100)\n",
    "\n",
    "mat0=851\n",
    "mu0=460\n",
    "ml0=1740\n",
    "\n",
    "mateq=588\n",
    "mueq=360\n",
    "mleq=1720\n",
    "\n",
    "b12 = 0.12  \n",
    "b23 = 0.007  \n",
    "b11 = 1 - b12\n",
    "b21 = b12*mateq/mueq\n",
    "b22 = 1 - b21 - b23\n",
    "b32 = b23*mueq/mleq\n",
    "b33 = 1 - b32\n",
    "\n",
    "### Geophysical equations\n",
    "phi_11 = m.Param(value=b11)\n",
    "phi_12 = m.Param(value=b12)\n",
    "phi_22 = m.Param(value=b22)\n",
    "phi_21 = m.Param(value=b21)\n",
    "phi_23 = m.Param(value=b23)\n",
    "phi_32 = m.Param(value=b32)\n",
    "phi_33 = m.Param(value=b33)\n",
    "\n",
    "E = m.Var(value=70)\n",
    "E_l = m.Var(value=70)\n",
    "E_i = m.Var(value=70)\n",
    "M_AT = m.Var(value=mat0)\n",
    "M_up = m.Var(value=mu0)\n",
    "M_lo = m.Var(value=ml0)"
   ]
  },
  {
   "cell_type": "code",
   "execution_count": null,
   "id": "4b5ea94d-ec76-4475-8145-87ccc4dced08",
   "metadata": {},
   "outputs": [],
   "source": []
  }
 ],
 "metadata": {
  "kernelspec": {
   "display_name": "Python 3 (ipykernel)",
   "language": "python",
   "name": "python3"
  },
  "language_info": {
   "codemirror_mode": {
    "name": "ipython",
    "version": 3
   },
   "file_extension": ".py",
   "mimetype": "text/x-python",
   "name": "python",
   "nbconvert_exporter": "python",
   "pygments_lexer": "ipython3",
   "version": "3.11.8"
  }
 },
 "nbformat": 4,
 "nbformat_minor": 5
}