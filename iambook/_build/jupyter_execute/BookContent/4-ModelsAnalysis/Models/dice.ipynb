{
 "cells": [
  {
   "cell_type": "markdown",
   "id": "fe141dc0-4519-4e33-8541-101e80a33077",
   "metadata": {},
   "source": [
    "(dice-model)=\n",
    "# Dice Model\n",
    "\n",
    "For a compact repr/sentation of the model and an Python implementation go to {ref}`dice-impl`."
   ]
  },
  {
   "cell_type": "markdown",
   "id": "bc44c9d0-3cb7-4804-9fb8-249ed66ad790",
   "metadata": {},
   "source": [
    "The DICE model is an integrated model that incorporates the dynamics of emissions and economic impacts as well as the economic costs of policies to curb emissions {cite}`nordhaus_optimal_1992`.\n",
    "\n",
    "## System\n",
    "\n",
    "## Model Description\n",
    "\n",
    "The model represent a global economy and a global climate which are interconnected through two interfaces, emissions and damages.\n",
    "\n",
    "<img src=\"../../../assets/img/Dice.jpg\" width=\"100%\">\n",
    "\n",
    "## Mathematical Representation"
   ]
  },
  {
   "cell_type": "markdown",
   "id": "9e31d1e8-f56e-4519-b88c-dd6b3d200d1b",
   "metadata": {},
   "source": [
    "## Le Problème\n",
    "\n",
    "Le module économique est basée sur le modèle intertemporèle de Ramsey. \n",
    "\n",
    "### Fonction Objectif\n",
    "Le décision principale à laquelle fait face cette économie est de choisir entre consommer, investir dans du capital productif ou dans du capital permettant de réduire les émissions.\n",
    "\n",
    "Ainsi le problème se résume à maximiser la function objectif suivante:\n",
    "\n",
    "$$\n",
    "\\max_{[c_(t)]} \\sum_{t=1}^{T}{U[c(t), P(t)] (1+ \\rho)^{-t}} \n",
    "$$\n",
    "\n",
    "où:\n",
    "- $U$ est le niveau d'utilité\n",
    "- $c(t)$ est le flux de consomation par capita au temps t\n",
    "- $P(t)$ est le niveau de la population au temps t\n",
    "- $p$ est le pure taux de la préférence temporale de la société\n",
    "\n",
    "The objective function is then the discounted sum of the utilities of consumption, U[c(t),P(t)], summed over the relevant time horizon from t = 1 to t = T. The maximization is subject to two sets of constraints: first, a conventional set of economic constraints; and second, the specific set of emissionsclimate-economy constraints. Economic constraints."
   ]
  },
  {
   "cell_type": "markdown",
   "id": "e2d9c3cc-3e45-4405-8f26-9ac906ae58c5",
   "metadata": {},
   "source": [
    "### Function d'utilité\n",
    "\n",
    "La function d'utilité est décrite de façon suivante :\n",
    "\n",
    "$$\n",
    "U_{[c_(t)]} = P(t) (c(t)^{1-\\alpha} - 1) / (1 - \\alpha) \n",
    "$$\n",
    "\n",
    "où:\n",
    "- $\\alpha$ mesure le taux d'aversion à l'inéqualité. Quand $\\alpha = 0$, cette fonction est linéaire implicant aucune aversion."
   ]
  },
  {
   "cell_type": "markdown",
   "id": "4c24348f-d5cb-4bd9-b014-81f0895baa2b",
   "metadata": {},
   "source": [
    "## Module Population\n",
    "\n",
    "Bien que la population est. ormaement décrite en tant qu'élément du module économique, ici nous préférons la séparé afin de garder une meilleure cohérance avec les autres modèles présentés. \n",
    "\n",
    "Pour ce qui est du modèele Dice, la population est une variable exogène avec la dynamique suivante:\n",
    "\n",
    "$$\n",
    "    P(t) = P(t -1) (1+g)\n",
    "$$\n",
    "where $g$ is the population growth rate.\n",
    "\n"
   ]
  },
  {
   "cell_type": "markdown",
   "id": "96506491-ceaa-484c-936f-56674dd907fb",
   "metadata": {},
   "source": [
    "## Module Économique\n",
    "\n",
    "La dynamique principale du module économique est représentée par une fonction de production Cobb-Douglass:\n",
    "$$\n",
    "Q(t) = \\Omega(t) A(t) K(t)^{\\gamma} P(t)^{1 - \\gamma}\n",
    "$$\n",
    "où:\n",
    "- $Q(t)$ est la production au temps t \n",
    "- $\\gamma$ représente l'élasticité du capital par rapport à la productionest le niveau d'utilité\n",
    "- $A(t)$ est le niveau de technologie disponible au temps t\n",
    "- $K(t)$ est le capital disponible au temps t.\n",
    "\n",
    "Un élément a été ajouté à cette function, soit l'interface avec le module du climat, , qui est le niveau d'impacts du climat sur l'économie."
   ]
  },
  {
   "cell_type": "markdown",
   "id": "52b57130-ab99-4e05-b498-f7eb5d23a611",
   "metadata": {},
   "source": [
    "Les autres dynamiques de ce modèle économique sont:\n",
    "\n",
    "$$\n",
    "\\begin{aligned}\n",
    " Q(t) = C(t) + I(t) \\\\\n",
    " K(t) = (1- \\delta_{k} K(t-1) + I(t) \n",
    "\\end{aligned}\n",
    "$$"
   ]
  },
  {
   "cell_type": "markdown",
   "id": "7d75d483-b20a-4b07-9dc1-61783854c193",
   "metadata": {},
   "source": [
    "## Module Cycle du carbone\n",
    "\n",
    "### Émissions\n",
    "\n",
    "Les émissions viennent bouclé la boucle et fwrmé notre modèle intégré en servant d'interface entre l'économie et le climat. La function décrivant les émissions est \n",
    "$$\n",
    "E(t) = (1 - u(t)) \\sigma(t) Q(t) \n",
    "$$\n",
    "où:\n",
    "\n",
    "- $E(t)$ est l'émission des gaz à effet deserres\n",
    "- $a(t)$ est le ratio des émissions non controllé par rapport à la production, et est déterminé par des données historique\n",
    "- $u(t)$ est une varibles décisionnells qui est déterminé par optimisation."
   ]
  },
  {
   "cell_type": "markdown",
   "id": "95a7ae08-8f4e-40ba-977f-4bf7e8ca5480",
   "metadata": {},
   "source": [
    "### Concentration du carbone\n",
    "\n",
    "L'accumulation du dioxide de carbone est représenté par un modèle en boite réduit à: \n",
    "$$\n",
    "M(t) = \\beta E(t) + (1 - \\delta_M) M(t - 1)\n",
    "$$\n",
    "où\n",
    "- $M(t)$ est la concentration de $CO_2$ relative to l'ère pré-industrielle\n",
    "- $\\beta$ est le taux marginal de rétention atmossphérique\n",
    "- $\\delta_M$ est le taux de transfert des réservoirs à l'océan profond."
   ]
  },
  {
   "cell_type": "markdown",
   "id": "007610f0-40ea-4061-9fbb-781f914b8951",
   "metadata": {},
   "source": [
    "### Température\n",
    "\n",
    "À cette fin, le modèle DICE s'appuie sur Schneider et Thompson pour les équations de base. Dans cette approche, le système climatique est caractérisé par un système multicouche comprenant l'atmosphère, la couche mixte des océans et les océans profonds.\n",
    "\n",
    "\\begin{align}\n",
    "T_1(t) = T_1(t-1) + \\frac{1}{R_1}(F_t - \\lambda T_1(t-1) - \\frac{R_2}{\\gamma_2}(T_1(t-1)-T_2(t-1))\n",
    "\\end{align}\n",
    "\n",
    "\\begin{align}\n",
    "T_2(t) = T_2(t-1) + \\frac{1}{R_2}(T_1(t-1)-T_2(t-1))\n",
    "\\end{align}\n",
    "\n",
    "où\n",
    "- $T_i(t)$ est la température de la couche i à la période t (relatif à 1900);\n",
    "- $F(t)$ est le forçage radiatif dans l'atmosphère provenant des gaz à effets de serres (relatif à 1900);\n",
    "- $R_i$ est la capicité thermale des différentes couches\n",
    "- $\\lambda$ est le retour d'information du climat"
   ]
  },
  {
   "cell_type": "markdown",
   "id": "f9abdd50-2dfb-4f87-b14b-e2bb22bcee06",
   "metadata": {},
   "source": [
    "## Economic Impacts Module\n",
    "\n",
    "### Damages\n",
    "\n",
    "Therefore, the final relation between global temperature increase and income loss is \n",
    "$$\n",
    "d(t) = 0.0133 (\\frac{T(t)}{3})^2\n",
    "$$\n",
    "where \n",
    "- $d(t)$ is the fractional loss of global output from greenhouse warming."
   ]
  },
  {
   "cell_type": "markdown",
   "id": "00f54bac-912e-4912-a21d-4b08fa56b598",
   "metadata": {},
   "source": [
    "### Mitigation Costs\n",
    "The equation used in the model is\n",
    "$$\n",
    "TC(t) = b_1 u(t)^{b2} = 0.0686 u(t)^{2.887} \n",
    "$$\n",
    "where \n",
    "- $TC(t)$ is the fractional cost to global output from GHG emissions control\n",
    "- $b1$ and $b2$ are constant"
   ]
  },
  {
   "cell_type": "markdown",
   "id": "c50774b4-3793-4681-a596-0c958c58ef40",
   "metadata": {},
   "source": [
    "### Climate Factor\n",
    "\n",
    "Combining the cost and damage relations yields the climate factor, fl, in the production function\n",
    "$$\n",
    "\\Omega(t) = \\frac{1 - TC(t)}{1+d(t)}\n",
    "$$"
   ]
  },
  {
   "cell_type": "markdown",
   "id": "7fb0ed82-97bf-473d-84ef-cb5f23ad8da5",
   "metadata": {},
   "source": [
    "To see a more compact mathematical representation and a Python inplementation go to Dice Implementation."
   ]
  },
  {
   "cell_type": "code",
   "execution_count": null,
   "id": "3f96b00c-34fa-4cec-91a4-07a6c1a7c111",
   "metadata": {},
   "outputs": [],
   "source": []
  }
 ],
 "metadata": {
  "kernelspec": {
   "display_name": "Python 3 (ipykernel)",
   "language": "python",
   "name": "python3"
  },
  "language_info": {
   "codemirror_mode": {
    "name": "ipython",
    "version": 3
   },
   "file_extension": ".py",
   "mimetype": "text/x-python",
   "name": "python",
   "nbconvert_exporter": "python",
   "pygments_lexer": "ipython3",
   "version": "3.11.8"
  }
 },
 "nbformat": 4,
 "nbformat_minor": 5
}