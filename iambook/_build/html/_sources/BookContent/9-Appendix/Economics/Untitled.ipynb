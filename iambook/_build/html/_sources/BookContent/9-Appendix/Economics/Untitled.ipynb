{
 "cells": [
  {
   "cell_type": "code",
   "execution_count": 1,
   "id": "591e6c0a-442d-4985-b6ad-0c994f90e9e3",
   "metadata": {},
   "outputs": [],
   "source": [
    "# MicroEconomics"
   ]
  },
  {
   "cell_type": "code",
   "execution_count": 2,
   "id": "ad366387-22ce-4ae1-92d9-d21ab8d64471",
   "metadata": {},
   "outputs": [],
   "source": [
    "## The Consumer's Choice"
   ]
  },
  {
   "cell_type": "code",
   "execution_count": null,
   "id": "b1ed6aca-bf56-4923-87bc-3193b9533e20",
   "metadata": {},
   "outputs": [],
   "source": []
  }
 ],
 "metadata": {
  "kernelspec": {
   "display_name": "Python 3 (ipykernel)",
   "language": "python",
   "name": "python3"
  },
  "language_info": {
   "codemirror_mode": {
    "name": "ipython",
    "version": 3
   },
   "file_extension": ".py",
   "mimetype": "text/x-python",
   "name": "python",
   "nbconvert_exporter": "python",
   "pygments_lexer": "ipython3",
   "version": "3.11.8"
  }
 },
 "nbformat": 4,
 "nbformat_minor": 5
}
